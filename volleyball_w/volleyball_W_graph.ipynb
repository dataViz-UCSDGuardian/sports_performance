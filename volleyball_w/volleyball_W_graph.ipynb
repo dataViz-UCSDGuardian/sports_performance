{
 "cells": [
  {
   "cell_type": "code",
   "execution_count": 96,
   "metadata": {
    "collapsed": true
   },
   "outputs": [],
   "source": [
    "%matplotlib inline"
   ]
  },
  {
   "cell_type": "code",
   "execution_count": 97,
   "metadata": {
    "collapsed": false
   },
   "outputs": [
    {
     "data": {
      "text/html": [
       "<div>\n",
       "<table border=\"1\" class=\"dataframe\">\n",
       "  <thead>\n",
       "    <tr style=\"text-align: right;\">\n",
       "      <th></th>\n",
       "      <th>Date</th>\n",
       "      <th>Opponent</th>\n",
       "      <th>UCSD Rank</th>\n",
       "      <th>Opp Rank</th>\n",
       "      <th>Location</th>\n",
       "      <th>Won</th>\n",
       "      <th>Conference</th>\n",
       "      <th>UCSD Score</th>\n",
       "      <th>Opp Score</th>\n",
       "      <th>Year</th>\n",
       "    </tr>\n",
       "  </thead>\n",
       "  <tbody>\n",
       "    <tr>\n",
       "      <th>0</th>\n",
       "      <td>Thu, Aug 25</td>\n",
       "      <td>Point Loma</td>\n",
       "      <td>13</td>\n",
       "      <td>-</td>\n",
       "      <td>Carson</td>\n",
       "      <td>1</td>\n",
       "      <td>0</td>\n",
       "      <td>3</td>\n",
       "      <td>2</td>\n",
       "      <td>2005</td>\n",
       "    </tr>\n",
       "    <tr>\n",
       "      <th>1</th>\n",
       "      <td>Thu, Aug 25</td>\n",
       "      <td>Bridgeport</td>\n",
       "      <td>13</td>\n",
       "      <td>-</td>\n",
       "      <td>Carson</td>\n",
       "      <td>1</td>\n",
       "      <td>0</td>\n",
       "      <td>3</td>\n",
       "      <td>0</td>\n",
       "      <td>2005</td>\n",
       "    </tr>\n",
       "    <tr>\n",
       "      <th>2</th>\n",
       "      <td>Fri, Aug 26</td>\n",
       "      <td>Concordia (N.Y.)</td>\n",
       "      <td>13</td>\n",
       "      <td>-</td>\n",
       "      <td>Carson</td>\n",
       "      <td>1</td>\n",
       "      <td>0</td>\n",
       "      <td>3</td>\n",
       "      <td>0</td>\n",
       "      <td>2005</td>\n",
       "    </tr>\n",
       "    <tr>\n",
       "      <th>3</th>\n",
       "      <td>Tue, Aug 30</td>\n",
       "      <td>Point Loma</td>\n",
       "      <td>13</td>\n",
       "      <td>-</td>\n",
       "      <td>UC San Diego</td>\n",
       "      <td>1</td>\n",
       "      <td>0</td>\n",
       "      <td>3</td>\n",
       "      <td>2</td>\n",
       "      <td>2005</td>\n",
       "    </tr>\n",
       "    <tr>\n",
       "      <th>4</th>\n",
       "      <td>Fri, Sep 02</td>\n",
       "      <td>St. Martins</td>\n",
       "      <td>13</td>\n",
       "      <td>-</td>\n",
       "      <td>San Bernardino</td>\n",
       "      <td>1</td>\n",
       "      <td>0</td>\n",
       "      <td>3</td>\n",
       "      <td>0</td>\n",
       "      <td>2005</td>\n",
       "    </tr>\n",
       "    <tr>\n",
       "      <th>5</th>\n",
       "      <td>Fri, Sep 02</td>\n",
       "      <td>Hawaii Pacific</td>\n",
       "      <td>13</td>\n",
       "      <td>8</td>\n",
       "      <td>San Bernardino</td>\n",
       "      <td>0</td>\n",
       "      <td>0</td>\n",
       "      <td>0</td>\n",
       "      <td>3</td>\n",
       "      <td>2005</td>\n",
       "    </tr>\n",
       "    <tr>\n",
       "      <th>6</th>\n",
       "      <td>Sat, Sep 03</td>\n",
       "      <td>Northwood</td>\n",
       "      <td>13</td>\n",
       "      <td>16</td>\n",
       "      <td>San Bernardino</td>\n",
       "      <td>1</td>\n",
       "      <td>0</td>\n",
       "      <td>3</td>\n",
       "      <td>0</td>\n",
       "      <td>2005</td>\n",
       "    </tr>\n",
       "    <tr>\n",
       "      <th>7</th>\n",
       "      <td>Sat, Sep 03</td>\n",
       "      <td>Northwest Nazarene</td>\n",
       "      <td>13</td>\n",
       "      <td>-</td>\n",
       "      <td>San Bernardino</td>\n",
       "      <td>1</td>\n",
       "      <td>0</td>\n",
       "      <td>3</td>\n",
       "      <td>0</td>\n",
       "      <td>2005</td>\n",
       "    </tr>\n",
       "    <tr>\n",
       "      <th>8</th>\n",
       "      <td>Thu, Sep 08</td>\n",
       "      <td>Grand Canyon</td>\n",
       "      <td>10</td>\n",
       "      <td>-</td>\n",
       "      <td>UC San Diego</td>\n",
       "      <td>1</td>\n",
       "      <td>0</td>\n",
       "      <td>3</td>\n",
       "      <td>1</td>\n",
       "      <td>2005</td>\n",
       "    </tr>\n",
       "    <tr>\n",
       "      <th>9</th>\n",
       "      <td>Sat, Sep 10</td>\n",
       "      <td>Cal State San Bernardino*</td>\n",
       "      <td>10</td>\n",
       "      <td>2</td>\n",
       "      <td>San Bernardino</td>\n",
       "      <td>0</td>\n",
       "      <td>1</td>\n",
       "      <td>1</td>\n",
       "      <td>3</td>\n",
       "      <td>2005</td>\n",
       "    </tr>\n",
       "  </tbody>\n",
       "</table>\n",
       "</div>"
      ],
      "text/plain": [
       "          Date                   Opponent UCSD Rank Opp Rank        Location  \\\n",
       "0  Thu, Aug 25                 Point Loma        13        -          Carson   \n",
       "1  Thu, Aug 25                 Bridgeport        13        -          Carson   \n",
       "2  Fri, Aug 26           Concordia (N.Y.)        13        -          Carson   \n",
       "3  Tue, Aug 30                 Point Loma        13        -    UC San Diego   \n",
       "4  Fri, Sep 02                St. Martins        13        -  San Bernardino   \n",
       "5  Fri, Sep 02             Hawaii Pacific        13        8  San Bernardino   \n",
       "6  Sat, Sep 03                  Northwood        13       16  San Bernardino   \n",
       "7  Sat, Sep 03         Northwest Nazarene        13        -  San Bernardino   \n",
       "8  Thu, Sep 08               Grand Canyon        10        -    UC San Diego   \n",
       "9  Sat, Sep 10  Cal State San Bernardino*        10        2  San Bernardino   \n",
       "\n",
       "   Won  Conference  UCSD Score  Opp Score  Year  \n",
       "0    1           0           3          2  2005  \n",
       "1    1           0           3          0  2005  \n",
       "2    1           0           3          0  2005  \n",
       "3    1           0           3          2  2005  \n",
       "4    1           0           3          0  2005  \n",
       "5    0           0           0          3  2005  \n",
       "6    1           0           3          0  2005  \n",
       "7    1           0           3          0  2005  \n",
       "8    1           0           3          1  2005  \n",
       "9    0           1           1          3  2005  "
      ]
     },
     "execution_count": 97,
     "metadata": {},
     "output_type": "execute_result"
    }
   ],
   "source": [
    "import pandas as pd\n",
    "import numpy as np\n",
    "import matplotlib\n",
    "import matplotlib.pyplot as plt\n",
    "import glob\n",
    "\n",
    "path =r'./data/volleyball_women'\n",
    "all_files = glob.glob(path + \"/*.csv\")\n",
    "\n",
    "years = []\n",
    "for item in all_files:\n",
    "    years.append(item[-8:-4:])\n",
    "\n",
    "frames = []\n",
    "\n",
    "for year in years:\n",
    "    path_name = path + \"/women_volleyball_\" + year + \".csv\"\n",
    "    df = pd.read_csv(path_name, index_col=None,header=0)\n",
    "    df['Year'] = year\n",
    "    frames.append(df)\n",
    "\n",
    "data = pd.concat(frames, ignore_index=True)\n",
    "data.head(10)"
   ]
  },
  {
   "cell_type": "code",
   "execution_count": 98,
   "metadata": {
    "collapsed": false
   },
   "outputs": [],
   "source": [
    "#drop non-conference games\n",
    "data = data[data.Conference == 1]"
   ]
  },
  {
   "cell_type": "code",
   "execution_count": 99,
   "metadata": {
    "collapsed": false
   },
   "outputs": [
    {
     "data": {
      "text/html": [
       "<div>\n",
       "<table border=\"1\" class=\"dataframe\">\n",
       "  <thead>\n",
       "    <tr style=\"text-align: right;\">\n",
       "      <th></th>\n",
       "      <th>Date</th>\n",
       "      <th>Opponent</th>\n",
       "      <th>UCSD Rank</th>\n",
       "      <th>Opp Rank</th>\n",
       "      <th>Location</th>\n",
       "      <th>Won</th>\n",
       "      <th>Conference</th>\n",
       "      <th>UCSD Score</th>\n",
       "      <th>Opp Score</th>\n",
       "      <th>Year</th>\n",
       "      <th>Score_diff</th>\n",
       "    </tr>\n",
       "  </thead>\n",
       "  <tbody>\n",
       "    <tr>\n",
       "      <th>9</th>\n",
       "      <td>Sat, Sep 10</td>\n",
       "      <td>Cal State San Bernardino*</td>\n",
       "      <td>10</td>\n",
       "      <td>2</td>\n",
       "      <td>San Bernardino</td>\n",
       "      <td>0</td>\n",
       "      <td>1</td>\n",
       "      <td>1</td>\n",
       "      <td>3</td>\n",
       "      <td>2005</td>\n",
       "      <td>-2</td>\n",
       "    </tr>\n",
       "    <tr>\n",
       "      <th>10</th>\n",
       "      <td>Fri, Sep 16</td>\n",
       "      <td>Cal State Monterey Bay*</td>\n",
       "      <td>12</td>\n",
       "      <td>-</td>\n",
       "      <td>UC San Diego</td>\n",
       "      <td>1</td>\n",
       "      <td>1</td>\n",
       "      <td>3</td>\n",
       "      <td>0</td>\n",
       "      <td>2005</td>\n",
       "      <td>3</td>\n",
       "    </tr>\n",
       "    <tr>\n",
       "      <th>11</th>\n",
       "      <td>Sat, Sep 17</td>\n",
       "      <td>Sonoma State*</td>\n",
       "      <td>12</td>\n",
       "      <td>-</td>\n",
       "      <td>UC San Diego</td>\n",
       "      <td>1</td>\n",
       "      <td>1</td>\n",
       "      <td>3</td>\n",
       "      <td>0</td>\n",
       "      <td>2005</td>\n",
       "      <td>3</td>\n",
       "    </tr>\n",
       "    <tr>\n",
       "      <th>12</th>\n",
       "      <td>Fri, Sep 23</td>\n",
       "      <td>Chico State*</td>\n",
       "      <td>11</td>\n",
       "      <td>-</td>\n",
       "      <td>Chico</td>\n",
       "      <td>1</td>\n",
       "      <td>1</td>\n",
       "      <td>3</td>\n",
       "      <td>1</td>\n",
       "      <td>2005</td>\n",
       "      <td>2</td>\n",
       "    </tr>\n",
       "    <tr>\n",
       "      <th>13</th>\n",
       "      <td>Sat, Sep 24</td>\n",
       "      <td>Cal State Stanislaus*</td>\n",
       "      <td>11</td>\n",
       "      <td>-</td>\n",
       "      <td>Turlock</td>\n",
       "      <td>1</td>\n",
       "      <td>1</td>\n",
       "      <td>3</td>\n",
       "      <td>1</td>\n",
       "      <td>2005</td>\n",
       "      <td>2</td>\n",
       "    </tr>\n",
       "    <tr>\n",
       "      <th>14</th>\n",
       "      <td>Fri, Sep 30</td>\n",
       "      <td>Cal State Dominguez Hills*</td>\n",
       "      <td>10</td>\n",
       "      <td>-</td>\n",
       "      <td>UC San Diego</td>\n",
       "      <td>1</td>\n",
       "      <td>1</td>\n",
       "      <td>3</td>\n",
       "      <td>0</td>\n",
       "      <td>2005</td>\n",
       "      <td>3</td>\n",
       "    </tr>\n",
       "    <tr>\n",
       "      <th>15</th>\n",
       "      <td>Sat, Oct 01</td>\n",
       "      <td>Cal Poly Pomona*</td>\n",
       "      <td>10</td>\n",
       "      <td>18</td>\n",
       "      <td>UC San Diego</td>\n",
       "      <td>0</td>\n",
       "      <td>1</td>\n",
       "      <td>1</td>\n",
       "      <td>3</td>\n",
       "      <td>2005</td>\n",
       "      <td>-2</td>\n",
       "    </tr>\n",
       "    <tr>\n",
       "      <th>16</th>\n",
       "      <td>Thu, Oct 06</td>\n",
       "      <td>Cal State L.A.*</td>\n",
       "      <td>13</td>\n",
       "      <td>16</td>\n",
       "      <td>Los Angeles</td>\n",
       "      <td>0</td>\n",
       "      <td>1</td>\n",
       "      <td>1</td>\n",
       "      <td>3</td>\n",
       "      <td>2005</td>\n",
       "      <td>-2</td>\n",
       "    </tr>\n",
       "    <tr>\n",
       "      <th>17</th>\n",
       "      <td>Fri, Oct 07</td>\n",
       "      <td>Cal State Bakersfield*</td>\n",
       "      <td>13</td>\n",
       "      <td>-</td>\n",
       "      <td>Bakersfield</td>\n",
       "      <td>1</td>\n",
       "      <td>1</td>\n",
       "      <td>3</td>\n",
       "      <td>2</td>\n",
       "      <td>2005</td>\n",
       "      <td>1</td>\n",
       "    </tr>\n",
       "    <tr>\n",
       "      <th>18</th>\n",
       "      <td>Sat, Oct 15</td>\n",
       "      <td>Cal State San Bernardino*</td>\n",
       "      <td>16</td>\n",
       "      <td>11</td>\n",
       "      <td>UC San Diego</td>\n",
       "      <td>1</td>\n",
       "      <td>1</td>\n",
       "      <td>3</td>\n",
       "      <td>2</td>\n",
       "      <td>2005</td>\n",
       "      <td>1</td>\n",
       "    </tr>\n",
       "    <tr>\n",
       "      <th>19</th>\n",
       "      <td>Fri, Oct 21</td>\n",
       "      <td>Sonoma State*</td>\n",
       "      <td>14</td>\n",
       "      <td>-</td>\n",
       "      <td>Sonoma</td>\n",
       "      <td>0</td>\n",
       "      <td>1</td>\n",
       "      <td>2</td>\n",
       "      <td>3</td>\n",
       "      <td>2005</td>\n",
       "      <td>-1</td>\n",
       "    </tr>\n",
       "    <tr>\n",
       "      <th>20</th>\n",
       "      <td>Sat, Oct 22</td>\n",
       "      <td>Cal State Monterey Bay*</td>\n",
       "      <td>14</td>\n",
       "      <td>-</td>\n",
       "      <td>Monterey</td>\n",
       "      <td>1</td>\n",
       "      <td>1</td>\n",
       "      <td>3</td>\n",
       "      <td>0</td>\n",
       "      <td>2005</td>\n",
       "      <td>3</td>\n",
       "    </tr>\n",
       "    <tr>\n",
       "      <th>21</th>\n",
       "      <td>Fri, Oct 28</td>\n",
       "      <td>Cal State Stanislaus*</td>\n",
       "      <td>17</td>\n",
       "      <td>-</td>\n",
       "      <td>UC San Diego</td>\n",
       "      <td>1</td>\n",
       "      <td>1</td>\n",
       "      <td>3</td>\n",
       "      <td>0</td>\n",
       "      <td>2005</td>\n",
       "      <td>3</td>\n",
       "    </tr>\n",
       "    <tr>\n",
       "      <th>22</th>\n",
       "      <td>Sat, Oct 29</td>\n",
       "      <td>Chico State*</td>\n",
       "      <td>17</td>\n",
       "      <td>-</td>\n",
       "      <td>UC San Diego</td>\n",
       "      <td>1</td>\n",
       "      <td>1</td>\n",
       "      <td>3</td>\n",
       "      <td>1</td>\n",
       "      <td>2005</td>\n",
       "      <td>2</td>\n",
       "    </tr>\n",
       "    <tr>\n",
       "      <th>23</th>\n",
       "      <td>Wed, Nov 02</td>\n",
       "      <td>Cal State Bakersfield*</td>\n",
       "      <td>17</td>\n",
       "      <td>22</td>\n",
       "      <td>UC San Diego</td>\n",
       "      <td>0</td>\n",
       "      <td>1</td>\n",
       "      <td>1</td>\n",
       "      <td>3</td>\n",
       "      <td>2005</td>\n",
       "      <td>-2</td>\n",
       "    </tr>\n",
       "  </tbody>\n",
       "</table>\n",
       "</div>"
      ],
      "text/plain": [
       "           Date                    Opponent UCSD Rank Opp Rank  \\\n",
       "9   Sat, Sep 10   Cal State San Bernardino*        10        2   \n",
       "10  Fri, Sep 16     Cal State Monterey Bay*        12        -   \n",
       "11  Sat, Sep 17               Sonoma State*        12        -   \n",
       "12  Fri, Sep 23                Chico State*        11        -   \n",
       "13  Sat, Sep 24       Cal State Stanislaus*        11        -   \n",
       "14  Fri, Sep 30  Cal State Dominguez Hills*        10        -   \n",
       "15  Sat, Oct 01            Cal Poly Pomona*        10       18   \n",
       "16  Thu, Oct 06             Cal State L.A.*        13       16   \n",
       "17  Fri, Oct 07      Cal State Bakersfield*        13        -   \n",
       "18  Sat, Oct 15   Cal State San Bernardino*        16       11   \n",
       "19  Fri, Oct 21               Sonoma State*        14        -   \n",
       "20  Sat, Oct 22     Cal State Monterey Bay*        14        -   \n",
       "21  Fri, Oct 28       Cal State Stanislaus*        17        -   \n",
       "22  Sat, Oct 29                Chico State*        17        -   \n",
       "23  Wed, Nov 02      Cal State Bakersfield*        17       22   \n",
       "\n",
       "          Location  Won  Conference  UCSD Score  Opp Score  Year  Score_diff  \n",
       "9   San Bernardino    0           1           1          3  2005          -2  \n",
       "10    UC San Diego    1           1           3          0  2005           3  \n",
       "11    UC San Diego    1           1           3          0  2005           3  \n",
       "12           Chico    1           1           3          1  2005           2  \n",
       "13         Turlock    1           1           3          1  2005           2  \n",
       "14    UC San Diego    1           1           3          0  2005           3  \n",
       "15    UC San Diego    0           1           1          3  2005          -2  \n",
       "16     Los Angeles    0           1           1          3  2005          -2  \n",
       "17     Bakersfield    1           1           3          2  2005           1  \n",
       "18    UC San Diego    1           1           3          2  2005           1  \n",
       "19          Sonoma    0           1           2          3  2005          -1  \n",
       "20        Monterey    1           1           3          0  2005           3  \n",
       "21    UC San Diego    1           1           3          0  2005           3  \n",
       "22    UC San Diego    1           1           3          1  2005           2  \n",
       "23    UC San Diego    0           1           1          3  2005          -2  "
      ]
     },
     "execution_count": 99,
     "metadata": {},
     "output_type": "execute_result"
    }
   ],
   "source": [
    "data['Score_diff'] = data['UCSD Score'] - data['Opp Score']\n",
    "\n",
    "data.head(15)"
   ]
  },
  {
   "cell_type": "code",
   "execution_count": 100,
   "metadata": {
    "collapsed": false
   },
   "outputs": [
    {
     "data": {
      "text/html": [
       "<div>\n",
       "<table border=\"1\" class=\"dataframe\">\n",
       "  <thead>\n",
       "    <tr style=\"text-align: right;\">\n",
       "      <th></th>\n",
       "      <th>Played</th>\n",
       "      <th>Won</th>\n",
       "      <th>Percent Won</th>\n",
       "      <th>Set Diff Avg</th>\n",
       "      <th>UCSD Sets Avg</th>\n",
       "    </tr>\n",
       "  </thead>\n",
       "  <tbody>\n",
       "    <tr>\n",
       "      <th>2005</th>\n",
       "      <td>18</td>\n",
       "      <td>11</td>\n",
       "      <td>61.11111</td>\n",
       "      <td>0.7222222</td>\n",
       "      <td>2.277778</td>\n",
       "    </tr>\n",
       "    <tr>\n",
       "      <th>2006</th>\n",
       "      <td>20</td>\n",
       "      <td>18</td>\n",
       "      <td>90</td>\n",
       "      <td>1.95</td>\n",
       "      <td>2.7</td>\n",
       "    </tr>\n",
       "    <tr>\n",
       "      <th>2007</th>\n",
       "      <td>18</td>\n",
       "      <td>13</td>\n",
       "      <td>72.22222</td>\n",
       "      <td>1.166667</td>\n",
       "      <td>2.444444</td>\n",
       "    </tr>\n",
       "    <tr>\n",
       "      <th>2008</th>\n",
       "      <td>20</td>\n",
       "      <td>15</td>\n",
       "      <td>75</td>\n",
       "      <td>1.25</td>\n",
       "      <td>2.55</td>\n",
       "    </tr>\n",
       "    <tr>\n",
       "      <th>2009</th>\n",
       "      <td>22</td>\n",
       "      <td>20</td>\n",
       "      <td>90.90909</td>\n",
       "      <td>2.181818</td>\n",
       "      <td>2.818182</td>\n",
       "    </tr>\n",
       "    <tr>\n",
       "      <th>2010</th>\n",
       "      <td>22</td>\n",
       "      <td>15</td>\n",
       "      <td>68.18182</td>\n",
       "      <td>1</td>\n",
       "      <td>2.5</td>\n",
       "    </tr>\n",
       "    <tr>\n",
       "      <th>2011</th>\n",
       "      <td>22</td>\n",
       "      <td>17</td>\n",
       "      <td>77.27273</td>\n",
       "      <td>1.409091</td>\n",
       "      <td>2.545455</td>\n",
       "    </tr>\n",
       "    <tr>\n",
       "      <th>2012</th>\n",
       "      <td>22</td>\n",
       "      <td>15</td>\n",
       "      <td>68.18182</td>\n",
       "      <td>0.7727273</td>\n",
       "      <td>2.227273</td>\n",
       "    </tr>\n",
       "    <tr>\n",
       "      <th>2013</th>\n",
       "      <td>22</td>\n",
       "      <td>17</td>\n",
       "      <td>77.27273</td>\n",
       "      <td>1.181818</td>\n",
       "      <td>2.636364</td>\n",
       "    </tr>\n",
       "    <tr>\n",
       "      <th>2014</th>\n",
       "      <td>22</td>\n",
       "      <td>12</td>\n",
       "      <td>54.54545</td>\n",
       "      <td>0.3636364</td>\n",
       "      <td>2.136364</td>\n",
       "    </tr>\n",
       "    <tr>\n",
       "      <th>2015</th>\n",
       "      <td>20</td>\n",
       "      <td>14</td>\n",
       "      <td>70</td>\n",
       "      <td>1.5</td>\n",
       "      <td>2.6</td>\n",
       "    </tr>\n",
       "  </tbody>\n",
       "</table>\n",
       "</div>"
      ],
      "text/plain": [
       "     Played Won Percent Won Set Diff Avg UCSD Sets Avg\n",
       "2005     18  11    61.11111    0.7222222      2.277778\n",
       "2006     20  18          90         1.95           2.7\n",
       "2007     18  13    72.22222     1.166667      2.444444\n",
       "2008     20  15          75         1.25          2.55\n",
       "2009     22  20    90.90909     2.181818      2.818182\n",
       "2010     22  15    68.18182            1           2.5\n",
       "2011     22  17    77.27273     1.409091      2.545455\n",
       "2012     22  15    68.18182    0.7727273      2.227273\n",
       "2013     22  17    77.27273     1.181818      2.636364\n",
       "2014     22  12    54.54545    0.3636364      2.136364\n",
       "2015     20  14          70          1.5           2.6"
      ]
     },
     "execution_count": 100,
     "metadata": {},
     "output_type": "execute_result"
    }
   ],
   "source": [
    "#make a dataframe to hold statistics of games won and played for each year\n",
    "columns = ['Played','Won','Percent Won','Set Diff Avg','UCSD Sets Avg']\n",
    "summary = pd.DataFrame(index=years,columns=columns)\n",
    "\n",
    "for year in years:\n",
    "    played = len(data[data['Year'] == year])\n",
    "    won = len(data[ (data['Year'] == year) & (data['Won'] == 1) ])\n",
    "    score_diff_avg = data[data['Year'] == year]['Score_diff'].mean()\n",
    "    ucsd_score_avg = data[data['Year'] == year]['UCSD Score'].mean()\n",
    "    summary.ix[year] = [played, won, float(won)/float(played)*100, score_diff_avg, ucsd_score_avg]\n",
    "\n",
    "summary"
   ]
  },
  {
   "cell_type": "code",
   "execution_count": 101,
   "metadata": {
    "collapsed": false
   },
   "outputs": [
    {
     "data": {
      "text/plain": [
       "<matplotlib.axes._subplots.AxesSubplot at 0x112b93a10>"
      ]
     },
     "execution_count": 101,
     "metadata": {},
     "output_type": "execute_result"
    },
    {
     "data": {
      "image/png": "[encoded data removed]",
      "text/plain": [
       "<matplotlib.figure.Figure at 0x112b00810>"
      ]
     },
     "metadata": {},
     "output_type": "display_data"
    }
   ],
   "source": [
    "#very basic pandas plot\n",
    "summary['Percent Won'].plot(kind='line')"
   ]
  },
  {
   "cell_type": "code",
   "execution_count": 102,
   "metadata": {
    "collapsed": false
   },
   "outputs": [
    {
     "data": {
      "text/plain": [
       "<matplotlib.axes._subplots.AxesSubplot at 0x1109ad090>"
      ]
     },
     "execution_count": 102,
     "metadata": {},
     "output_type": "execute_result"
    },
    {
     "data": {
      "image/png": "[encoded data removed]",
      "text/plain": [
       "<matplotlib.figure.Figure at 0x1109ad650>"
      ]
     },
     "metadata": {},
     "output_type": "display_data"
    }
   ],
   "source": [
    "#matplotlib bar graph of win percentage\n",
    "percents = pd.Series(summary['Percent Won'])\n",
    "plt.figure()\n",
    "\n",
    "percents.plot(kind='bar')"
   ]
  },
  {
   "cell_type": "code",
   "execution_count": 103,
   "metadata": {
    "collapsed": false,
    "scrolled": true
   },
   "outputs": [
    {
     "data": {
      "text/plain": [
       "<matplotlib.axes._subplots.AxesSubplot at 0x112437310>"
      ]
     },
     "execution_count": 103,
     "metadata": {},
     "output_type": "execute_result"
    },
    {
     "data": {
      "image/png": "[encoded data removed]",
      "text/plain": [
       "<matplotlib.figure.Figure at 0x11281d910>"
      ]
     },
     "metadata": {},
     "output_type": "display_data"
    }
   ],
   "source": [
    "#better matplotlib of win percentage\n",
    "x = range(0,len(years))\n",
    "plt.xticks(x, years)\n",
    "\n",
    "ps = range(0,110,10)\n",
    "\n",
    "axes = plt.gca()\n",
    "axes.set_ylim([0,100])\n",
    "plt.yticks(ps)\n",
    "\n",
    "percents.plot(kind='line')"
   ]
  },
  {
   "cell_type": "code",
   "execution_count": 104,
   "metadata": {
    "collapsed": false,
    "scrolled": true
   },
   "outputs": [
    {
     "data": {
      "text/plain": [
       "<matplotlib.axes._subplots.AxesSubplot at 0x112dde210>"
      ]
     },
     "execution_count": 104,
     "metadata": {},
     "output_type": "execute_result"
    },
    {
     "data": {
      "image/png": "[encoded data removed]",
      "text/plain": [
       "<matplotlib.figure.Figure at 0x112ddee50>"
      ]
     },
     "metadata": {},
     "output_type": "display_data"
    }
   ],
   "source": [
    "#matplotlib: average of each year for the net score differences\n",
    "x = range(0,len(years))\n",
    "plt.xticks(x, years)\n",
    "\n",
    "ps = range(0,4,1)\n",
    "\n",
    "axes = plt.gca()\n",
    "axes.set_ylim([0,3])\n",
    "plt.yticks(ps)\n",
    "\n",
    "n = pd.Series(summary['Set Diff Avg'])\n",
    "\n",
    "n.plot(kind='line')\n"
   ]
  },
  {
   "cell_type": "code",
   "execution_count": 105,
   "metadata": {
    "collapsed": false
   },
   "outputs": [
    {
     "data": {
      "text/plain": [
       "<matplotlib.axes._subplots.AxesSubplot at 0x112343810>"
      ]
     },
     "execution_count": 105,
     "metadata": {},
     "output_type": "execute_result"
    },
    {
     "data": {
      "image/png": "[encoded data removed]",
      "text/plain": [
       "<matplotlib.figure.Figure at 0x112feec10>"
      ]
     },
     "metadata": {},
     "output_type": "display_data"
    }
   ],
   "source": [
    "#matplotlib: average of each year for avg. UCSD score\n",
    "x = range(0,len(years))\n",
    "plt.xticks(x, years)\n",
    "\n",
    "ps = range(0,4,1)\n",
    "\n",
    "axes = plt.gca()\n",
    "axes.set_ylim([0,3])\n",
    "plt.yticks(ps)\n",
    "\n",
    "n = pd.Series(summary['UCSD Sets Avg'])\n",
    "\n",
    "n.plot(kind='line')"
   ]
  },
  {
   "cell_type": "code",
   "execution_count": 106,
   "metadata": {
    "collapsed": false
   },
   "outputs": [
    {
     "name": "stdout",
     "output_type": "stream",
     "text": [
      "[2005, 2006, 2007, 2008, 2009, 2010, 2011, 2012, 2013, 2014, 2015]\n"
     ]
    },
    {
     "data": {
      "image/png": "[encoded data removed]",
      "text/plain": [
       "<matplotlib.figure.Figure at 0x112437650>"
      ]
     },
     "metadata": {},
     "output_type": "display_data"
    }
   ],
   "source": [
    "#s1 win percentage\n",
    "\n",
    "fig, ax1 = plt.subplots()\n",
    "t = np.arange(2005, 2016, 1)\n",
    "s1 = summary['Percent Won'].values\n",
    "\n",
    "ax1.plot(t, s1, 'b-')\n",
    "ax1.set_xlabel('year')\n",
    "\n",
    "# Make the y-axis label and tick labels match the line color.\n",
    "ax1.set_ylabel('win percentage', color='b')\n",
    "for tl in ax1.get_yticklabels():\n",
    "    tl.set_color('b')\n",
    "\n",
    "years = [int(x) for x in years]\n",
    "print(years)\n",
    "    \n",
    "x = range(0,len(years))\n",
    "\n",
    "ps = range(0,110,10)\n",
    "\n",
    "axes = plt.gca()\n",
    "axes.set_ylim([0,100])\n",
    "plt.yticks(ps)\n",
    "    \n",
    "ax2 = ax1.twinx()\n",
    "s2 = summary['Set Diff Avg'].values\n",
    "\n",
    "ax2.plot(t, s2, 'r-')\n",
    "ax2.set_ylabel('average difference in sets won', color='r')\n",
    "for tl in ax2.get_yticklabels():\n",
    "    tl.set_color('r')\n",
    "    \n",
    "ax1.set_xticks(years)\n",
    "#ax2.set_xticks()    \n",
    "\n",
    "plt.show()"
   ]
  },
  {
   "cell_type": "code",
   "execution_count": null,
   "metadata": {
    "collapsed": true
   },
   "outputs": [],
   "source": []
  },
  {
   "cell_type": "code",
   "execution_count": null,
   "metadata": {
    "collapsed": true
   },
   "outputs": [],
   "source": []
  }
 ],
 "metadata": {
  "kernelspec": {
   "display_name": "Python 2",
   "language": "python",
   "name": "python2"
  },
  "language_info": {
   "codemirror_mode": {
    "name": "ipython",
    "version": 2
   },
   "file_extension": ".py",
   "mimetype": "text/x-python",
   "name": "python",
   "nbconvert_exporter": "python",
   "pygments_lexer": "ipython2",
   "version": "2.7.9"
  }
 },
 "nbformat": 4,
 "nbformat_minor": 0
}
